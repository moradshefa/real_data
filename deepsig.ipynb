{
 "cells": [
  {
   "cell_type": "code",
   "execution_count": 1,
   "metadata": {},
   "outputs": [
    {
     "name": "stderr",
     "output_type": "stream",
     "text": [
      "/home/morads/anaconda3/envs/py36/lib/python3.6/site-packages/h5py/__init__.py:34: FutureWarning: Conversion of the second argument of issubdtype from `float` to `np.floating` is deprecated. In future, it will be treated as `np.float64 == np.dtype(float).type`.\n",
      "  from ._conv import register_converters as _register_converters\n",
      "Using TensorFlow backend.\n"
     ]
    }
   ],
   "source": [
    "import h5py\n",
    "import numpy as np\n",
    "from data_loader import *\n",
    "from numpy.fft import *\n",
    "\n",
    "import matplotlib.pyplot as plt\n",
    "import matplotlib.image as mpimg\n",
    "from matplotlib.pyplot import figure\n",
    "\n",
    "\n",
    "import keras\n",
    "from keras.models import Model, load_model\n",
    "from keras.utils import plot_model, multi_gpu_model\n",
    "\n",
    "import keras.backend as K\n",
    "\n",
    "### Keras Conv2D\n",
    "# from keras.layers import Input, Reshape, Conv2D, MaxPooling2D, ZeroPadding2D, Flatten, Dropout, Dense, LSTM,Activation,add\n",
    "\n",
    "\n",
    "### Custom Conv2D\n",
    "from keras.layers import Input, Reshape, MaxPooling2D, ZeroPadding2D, Flatten, Dropout, Dense, LSTM,Activation,add\n",
    "from convolutional import Conv1D, Conv2D"
   ]
  },
  {
   "cell_type": "code",
   "execution_count": 2,
   "metadata": {
    "collapsed": true,
    "scrolled": false
   },
   "outputs": [],
   "source": [
    "# path = \"/datax/yzhang/army_challenge/training_data/\"\n",
    "path = '/datax/yzhang/deepsig/2018.01/GOLD_XYZ_OSC.0001_1024.hdf5'\n",
    "f = h5py.File(path, 'r')\n",
    "\n",
    "classes = ['32PSK',                                                                     \n",
    " '16APSK',\n",
    " '32QAM',\n",
    " 'FM',\n",
    " 'GMSK',\n",
    " '32APSK',\n",
    " 'OQPSK',\n",
    " '8ASK',\n",
    " 'BPSK',\n",
    " '8PSK',\n",
    " 'AM-SSB-SC',\n",
    " '4ASK',\n",
    " '16PSK',\n",
    " '64APSK',\n",
    " '128QAM',\n",
    " '128APSK',\n",
    " 'AM-DSB-SC',\n",
    " 'AM-SSB-WC',\n",
    " '64QAM',\n",
    " 'QPSK',\n",
    " '256QAM',\n",
    " 'AM-DSB-WC',\n",
    " 'OOK',\n",
    " '16QAM']\n"
   ]
  },
  {
   "cell_type": "code",
   "execution_count": 3,
   "metadata": {},
   "outputs": [
    {
     "name": "stdout",
     "output_type": "stream",
     "text": [
      "(2555904, 1024, 2)\n"
     ]
    }
   ],
   "source": [
    "data = np.asarray(f[\"X\"])\n",
    "labels = np.asarray(f[\"Y\"])\n",
    "snr = np.asarray(f[\"Z\"])\n",
    "print(data.shape)"
   ]
  },
  {
   "cell_type": "code",
   "execution_count": 4,
   "metadata": {},
   "outputs": [
    {
     "name": "stdout",
     "output_type": "stream",
     "text": [
      "(2555904, 2, 1024)\n",
      "(2555904, 24)\n",
      "(2555904, 1)\n"
     ]
    }
   ],
   "source": [
    "train_snr = False\n",
    "\n",
    "new_labels = []\n",
    "\n",
    "\n",
    "\n",
    "def snr_to_one_hot(snr, labels):\n",
    "    num_unique_labels = 3\n",
    "    \n",
    "    new_labels = np.zeros((labels.shape[0], num_unique_labels))    \n",
    "    \n",
    "    new_labels[np.where(snr<0)[0],0] = 1\n",
    "    new_labels[np.where(snr>=0)[0],1] = 1\n",
    "    \n",
    "    return new_labels\n",
    "    \n",
    "    \n",
    "data = np.transpose(data, (0,2,1))\n",
    "    \n",
    "if train_snr:\n",
    "    labels = snr_to_one_hot(snr, labels)\n",
    "    \n",
    "print(data.shape)\n",
    "print(labels.shape)\n",
    "print(snr.shape)"
   ]
  },
  {
   "cell_type": "code",
   "execution_count": 5,
   "metadata": {
    "collapsed": true
   },
   "outputs": [],
   "source": [
    "if train_snr:\n",
    "\n",
    "    blc = 2\n",
    "\n",
    "    path = \"/datax/yzhang/army_challenge/training_data/\"\n",
    "    if blc == 0:\n",
    "        path = \"/datax/yzhang/training_data/\"\n",
    "\n",
    "    army_noise_data = []\n",
    "\n",
    "    num_noise_data = labels.shape[0] // 2\n",
    "    for i in range(15):\n",
    "        data_file = path + \"training_data_chunk_\" + str(i) + \".pkl\"\n",
    "        army_noise_data.append(LoadModRecData(data_file, 1., 0., 0., load_mods=[\"NOISE\"], verbose=False).signalData)\n",
    "\n",
    "    army_noise_data = np.concatenate(army_noise_data)\n",
    "\n",
    "    print(army_noise_data.shape)    "
   ]
  },
  {
   "cell_type": "code",
   "execution_count": 6,
   "metadata": {
    "collapsed": true
   },
   "outputs": [],
   "source": [
    "if train_snr:\n",
    "    gaussian_noise = np.random.standard_normal(army_noise_data.shape)\n",
    "    std = np.random.uniform(-2,2,gaussian_noise.shape[0])[:,np.newaxis]\n",
    "    gaussian_noise = std[:,np.newaxis]*gaussian_noise\n",
    "\n",
    "    noise_data = np.concatenate((army_noise_data, gaussian_noise))\n",
    "    noise_labels = np.zeros((noise_data.shape[0],3))\n",
    "    noise_labels[:,2] = 1\n",
    "\n",
    "    noise_snr = -100*np.ones((noise_data.shape[0],1))\n",
    "    print(\"noise\", noise_data.shape)"
   ]
  },
  {
   "cell_type": "code",
   "execution_count": 7,
   "metadata": {
    "collapsed": true
   },
   "outputs": [],
   "source": [
    "if train_snr:\n",
    "    data = np.concatenate((data, noise_data))\n",
    "    labels = np.concatenate((labels, noise_labels))\n",
    "    snr = np.concatenate((snr, noise_snr))"
   ]
  },
  {
   "cell_type": "code",
   "execution_count": 8,
   "metadata": {},
   "outputs": [
    {
     "name": "stdout",
     "output_type": "stream",
     "text": [
      "(2555904, 2, 1024)\n",
      "(2555904, 24)\n",
      "(2555904, 1)\n"
     ]
    }
   ],
   "source": [
    "print(data.shape)\n",
    "print(labels.shape)\n",
    "print(snr.shape)"
   ]
  },
  {
   "cell_type": "code",
   "execution_count": 9,
   "metadata": {
    "collapsed": true
   },
   "outputs": [],
   "source": [
    "def plot_confusion_matrix(cm, title='Confusion matrix', cmap=plt.cm.Blues, labels=[]):\n",
    "    plt.imshow(cm, interpolation='nearest', cmap=cmap)\n",
    "    plt.title(title)\n",
    "    plt.colorbar()\n",
    "    tick_marks = np.arange(len(labels))\n",
    "    plt.xticks(tick_marks, labels, rotation=45)\n",
    "    plt.yticks(tick_marks, labels)\n",
    "    plt.tight_layout()\n",
    "    plt.ylabel('True label')\n",
    "    plt.xlabel('Predicted label')"
   ]
  },
  {
   "cell_type": "code",
   "execution_count": 10,
   "metadata": {
    "scrolled": false
   },
   "outputs": [
    {
     "name": "stdout",
     "output_type": "stream",
     "text": [
      "\n",
      "\n",
      "\n",
      "\n",
      "\n",
      "__________________________________________________________________________________________________\n",
      "Layer (type)                    Output Shape         Param #     Connected to                     \n",
      "==================================================================================================\n",
      "input_1 (InputLayer)            (None, 2, 1024)      0                                            \n",
      "__________________________________________________________________________________________________\n",
      "reshape_1 (Reshape)             (None, 2, 1024, 1)   0           input_1[0][0]                    \n",
      "__________________________________________________________________________________________________\n",
      "conv2d_1 (Conv2D)               (None, 1, 512, 64)   960         reshape_1[0][0]                  \n",
      "__________________________________________________________________________________________________\n",
      "max_pooling2d_1 (MaxPooling2D)  (None, 1, 256, 64)   0           conv2d_1[0][0]                   \n",
      "__________________________________________________________________________________________________\n",
      "conv2d_2 (Conv2D)               (None, 1, 256, 192)  37056       max_pooling2d_1[0][0]            \n",
      "__________________________________________________________________________________________________\n",
      "max_pooling2d_2 (MaxPooling2D)  (None, 1, 128, 192)  0           conv2d_2[0][0]                   \n",
      "__________________________________________________________________________________________________\n",
      "conv2d_4 (Conv2D)               (None, 1, 128, 64)   24640       max_pooling2d_2[0][0]            \n",
      "__________________________________________________________________________________________________\n",
      "conv2d_6 (Conv2D)               (None, 1, 128, 64)   24640       max_pooling2d_2[0][0]            \n",
      "__________________________________________________________________________________________________\n",
      "max_pooling2d_3 (MaxPooling2D)  (None, 1, 128, 192)  0           max_pooling2d_2[0][0]            \n",
      "__________________________________________________________________________________________________\n",
      "conv2d_8 (Conv2D)               (None, 1, 128, 64)   24640       max_pooling2d_2[0][0]            \n",
      "__________________________________________________________________________________________________\n",
      "conv2d_3 (Conv2D)               (None, 1, 128, 64)   24640       max_pooling2d_2[0][0]            \n",
      "__________________________________________________________________________________________________\n",
      "conv2d_5 (Conv2D)               (None, 1, 128, 64)   73792       conv2d_4[0][0]                   \n",
      "__________________________________________________________________________________________________\n",
      "conv2d_7 (Conv2D)               (None, 1, 128, 64)   32832       conv2d_6[0][0]                   \n",
      "__________________________________________________________________________________________________\n",
      "conv2d_10 (Conv2D)              (None, 1, 128, 64)   12352       max_pooling2d_3[0][0]            \n",
      "__________________________________________________________________________________________________\n",
      "conv2d_9 (Conv2D)               (None, 1, 128, 64)   98368       conv2d_8[0][0]                   \n",
      "__________________________________________________________________________________________________\n",
      "concatenate_1 (Concatenate)     (None, 1, 128, 320)  0           conv2d_3[0][0]                   \n",
      "                                                                 conv2d_5[0][0]                   \n",
      "                                                                 conv2d_7[0][0]                   \n",
      "                                                                 conv2d_10[0][0]                  \n",
      "                                                                 conv2d_9[0][0]                   \n",
      "__________________________________________________________________________________________________\n",
      "conv2d_12 (Conv2D)              (None, 1, 128, 64)   41024       concatenate_1[0][0]              \n",
      "__________________________________________________________________________________________________\n",
      "conv2d_14 (Conv2D)              (None, 1, 128, 64)   41024       concatenate_1[0][0]              \n",
      "__________________________________________________________________________________________________\n",
      "max_pooling2d_4 (MaxPooling2D)  (None, 1, 128, 320)  0           concatenate_1[0][0]              \n",
      "__________________________________________________________________________________________________\n",
      "conv2d_16 (Conv2D)              (None, 1, 128, 64)   41024       concatenate_1[0][0]              \n",
      "__________________________________________________________________________________________________\n",
      "conv2d_11 (Conv2D)              (None, 1, 128, 64)   41024       concatenate_1[0][0]              \n",
      "__________________________________________________________________________________________________\n",
      "conv2d_13 (Conv2D)              (None, 1, 128, 64)   73792       conv2d_12[0][0]                  \n",
      "__________________________________________________________________________________________________\n",
      "conv2d_15 (Conv2D)              (None, 1, 128, 64)   32832       conv2d_14[0][0]                  \n",
      "__________________________________________________________________________________________________\n",
      "conv2d_18 (Conv2D)              (None, 1, 128, 64)   20544       max_pooling2d_4[0][0]            \n",
      "__________________________________________________________________________________________________\n",
      "conv2d_17 (Conv2D)              (None, 1, 128, 64)   98368       conv2d_16[0][0]                  \n",
      "__________________________________________________________________________________________________\n",
      "concatenate_2 (Concatenate)     (None, 1, 128, 320)  0           conv2d_11[0][0]                  \n",
      "                                                                 conv2d_13[0][0]                  \n",
      "                                                                 conv2d_15[0][0]                  \n",
      "                                                                 conv2d_18[0][0]                  \n",
      "                                                                 conv2d_17[0][0]                  \n",
      "__________________________________________________________________________________________________\n",
      "add_1 (Add)                     (None, 1, 128, 320)  0           concatenate_2[0][0]              \n",
      "                                                                 concatenate_1[0][0]              \n",
      "__________________________________________________________________________________________________\n",
      "max_pooling2d_5 (MaxPooling2D)  (None, 1, 64, 320)   0           add_1[0][0]                      \n",
      "__________________________________________________________________________________________________\n",
      "conv2d_20 (Conv2D)              (None, 1, 64, 32)    20512       max_pooling2d_5[0][0]            \n",
      "__________________________________________________________________________________________________\n",
      "conv2d_22 (Conv2D)              (None, 1, 64, 32)    20512       max_pooling2d_5[0][0]            \n",
      "__________________________________________________________________________________________________\n",
      "max_pooling2d_6 (MaxPooling2D)  (None, 1, 64, 320)   0           max_pooling2d_5[0][0]            \n",
      "__________________________________________________________________________________________________\n",
      "conv2d_19 (Conv2D)              (None, 1, 64, 32)    20512       max_pooling2d_5[0][0]            \n",
      "__________________________________________________________________________________________________\n",
      "conv2d_21 (Conv2D)              (None, 1, 64, 32)    18464       conv2d_20[0][0]                  \n",
      "__________________________________________________________________________________________________\n",
      "conv2d_23 (Conv2D)              (None, 1, 64, 32)    8224        conv2d_22[0][0]                  \n",
      "__________________________________________________________________________________________________\n",
      "conv2d_24 (Conv2D)              (None, 1, 64, 32)    10272       max_pooling2d_6[0][0]            \n",
      "__________________________________________________________________________________________________\n",
      "concatenate_3 (Concatenate)     (None, 1, 64, 128)   0           conv2d_19[0][0]                  \n",
      "                                                                 conv2d_21[0][0]                  \n",
      "                                                                 conv2d_23[0][0]                  \n",
      "                                                                 conv2d_24[0][0]                  \n",
      "__________________________________________________________________________________________________\n",
      "conv2d_26 (Conv2D)              (None, 1, 64, 32)    8224        concatenate_3[0][0]              \n",
      "__________________________________________________________________________________________________\n",
      "conv2d_28 (Conv2D)              (None, 1, 64, 32)    8224        concatenate_3[0][0]              \n",
      "__________________________________________________________________________________________________\n",
      "max_pooling2d_7 (MaxPooling2D)  (None, 1, 64, 128)   0           concatenate_3[0][0]              \n",
      "__________________________________________________________________________________________________\n",
      "conv2d_25 (Conv2D)              (None, 1, 64, 32)    8224        concatenate_3[0][0]              \n",
      "__________________________________________________________________________________________________\n",
      "conv2d_27 (Conv2D)              (None, 1, 64, 32)    18464       conv2d_26[0][0]                  \n",
      "__________________________________________________________________________________________________\n",
      "conv2d_29 (Conv2D)              (None, 1, 64, 32)    8224        conv2d_28[0][0]                  \n",
      "__________________________________________________________________________________________________\n",
      "conv2d_30 (Conv2D)              (None, 1, 64, 32)    4128        max_pooling2d_7[0][0]            \n",
      "__________________________________________________________________________________________________\n",
      "concatenate_4 (Concatenate)     (None, 1, 64, 128)   0           conv2d_25[0][0]                  \n",
      "                                                                 conv2d_27[0][0]                  \n",
      "                                                                 conv2d_29[0][0]                  \n",
      "                                                                 conv2d_30[0][0]                  \n",
      "__________________________________________________________________________________________________\n",
      "add_2 (Add)                     (None, 1, 64, 128)   0           concatenate_4[0][0]              \n",
      "                                                                 concatenate_3[0][0]              \n",
      "__________________________________________________________________________________________________\n",
      "conv2d_32 (Conv2D)              (None, 1, 64, 32)    8224        add_2[0][0]                      \n",
      "__________________________________________________________________________________________________\n",
      "conv2d_34 (Conv2D)              (None, 1, 64, 32)    8224        add_2[0][0]                      \n",
      "__________________________________________________________________________________________________\n",
      "max_pooling2d_8 (MaxPooling2D)  (None, 1, 64, 128)   0           add_2[0][0]                      \n",
      "__________________________________________________________________________________________________\n",
      "conv2d_31 (Conv2D)              (None, 1, 64, 32)    8224        add_2[0][0]                      \n",
      "__________________________________________________________________________________________________\n",
      "conv2d_33 (Conv2D)              (None, 1, 64, 32)    18464       conv2d_32[0][0]                  \n",
      "__________________________________________________________________________________________________\n",
      "conv2d_35 (Conv2D)              (None, 1, 64, 32)    8224        conv2d_34[0][0]                  \n",
      "__________________________________________________________________________________________________\n",
      "conv2d_36 (Conv2D)              (None, 1, 64, 32)    4128        max_pooling2d_8[0][0]            \n",
      "__________________________________________________________________________________________________\n",
      "concatenate_5 (Concatenate)     (None, 1, 64, 128)   0           conv2d_31[0][0]                  \n",
      "                                                                 conv2d_33[0][0]                  \n",
      "                                                                 conv2d_35[0][0]                  \n",
      "                                                                 conv2d_36[0][0]                  \n",
      "__________________________________________________________________________________________________\n",
      "add_3 (Add)                     (None, 1, 64, 128)   0           concatenate_5[0][0]              \n",
      "                                                                 add_2[0][0]                      \n",
      "__________________________________________________________________________________________________\n",
      "conv2d_37 (Conv2D)              (None, 1, 64, 128)   16512       add_3[0][0]                      \n",
      "__________________________________________________________________________________________________\n",
      "dropout_1 (Dropout)             (None, 1, 64, 128)   0           conv2d_37[0][0]                  \n",
      "__________________________________________________________________________________________________\n",
      "flatten_1 (Flatten)             (None, 8192)         0           dropout_1[0][0]                  \n",
      "__________________________________________________________________________________________________\n",
      "dense_1 (Dense)                 (None, 24)           196632      flatten_1[0][0]                  \n",
      "==================================================================================================\n",
      "Total params: 1,166,168\n",
      "Trainable params: 1,166,168\n",
      "Non-trainable params: 0\n",
      "__________________________________________________________________________________________________\n"
     ]
    }
   ],
   "source": [
    "def inception(input_img, height = 1, fs=[64,64,64,64,64], with_residual=False, tw_tower=False):\n",
    "    tower_1 = Conv2D(filters=fs[0], kernel_size=[height, 1], padding='same', activation='relu')(input_img)\n",
    "    tower_2 = Conv2D(filters=fs[2], kernel_size=[height, 1], padding='same', activation='relu')(input_img)\n",
    "    tower_2 = Conv2D(filters=fs[3], kernel_size=[height, 9], padding='same', activation='relu')(tower_2)\n",
    "    tower_3 = Conv2D(filters=fs[2], kernel_size=[height, 1], padding='same', activation='relu')(input_img)\n",
    "    tower_3 = Conv2D(filters=fs[3], kernel_size=[height, 4], padding='same', activation='relu')(tower_3)\n",
    "    if tw_tower:\n",
    "        tower_5 = Conv2D(filters=fs[2], kernel_size=[height, 1], padding='same', activation='relu')(input_img)\n",
    "        tower_5 = Conv2D(filters=fs[3], kernel_size=[height, 12], padding='same', activation='relu')(tower_5)\n",
    "    tower_4 = MaxPooling2D(3, strides=1, padding='same')(input_img)\n",
    "    tower_4 = Conv2D(filters=fs[4], kernel_size=1, padding='same', activation='relu')(tower_4)\n",
    "    if tw_tower:\n",
    "        output = keras.layers.concatenate([tower_1, tower_2, tower_3, tower_4, tower_5], axis = 3)\n",
    "    else:\n",
    "        output = keras.layers.concatenate([tower_1, tower_2, tower_3, tower_4], axis = 3)\n",
    "    if with_residual and output.shape==input_img.shape:\n",
    "        output = output+input_img\n",
    "    print()\n",
    "    return output\n",
    "\n",
    "def out_tower(x, num_classes, dr=0.5):\n",
    "    x = Dropout(dr)(x)\n",
    "    output = Flatten()(x)\n",
    "    out    = Dense(num_classes, activation='softmax')(output)\n",
    "    return out\n",
    "\n",
    "def googleNet(x, data_format='channels_last', num_classes=24,num_layers=[1,2,3,2], features=[1,1,1,1,1]):\n",
    "    x = Reshape(in_shp + (1,), input_shape=in_shp)(x)\n",
    "    x = Conv2D(filters=64*features[0], kernel_size=[2,7], strides=[2,2], data_format=data_format, padding='same', activation='relu')(x)\n",
    "    x = MaxPooling2D([1, 3], strides=[1,2], padding='same')(x)\n",
    "    for dep in range(num_layers[0]):\n",
    "        y = x\n",
    "        x = Conv2D(filters=192*features[1], kernel_size=[1, 3], strides=[1,1], padding='same', activation='relu')(x)\n",
    "        if dep > 0:\n",
    "            x = add([x,y])\n",
    "    x = MaxPooling2D([1,3], strides=[1,2], padding='same')(x)\n",
    "    for dep in range(num_layers[1]):\n",
    "        y = x\n",
    "        x = inception(x, height=2, fs=np.array([64,64,64,64,64])*features[2], tw_tower=True)\n",
    "        if dep > 0:\n",
    "            x = add([x,y])\n",
    "    x = MaxPooling2D([1,3], strides=2, padding='same')(x)\n",
    "    for dep in range(num_layers[2]):\n",
    "        y = x\n",
    "        x = inception(x, height=2, fs=np.array([32,32,32,32,32])*features[3], with_residual=True)\n",
    "        if dep > 0:\n",
    "            x = add([x,y])\n",
    "\n",
    "    x = Conv2D(filters=128, kernel_size=1, padding='same', activation='relu')(x)\n",
    "    out = out_tower(x, num_classes, dr=0.5)\n",
    "    #out = Average()([out_mid, out_late])\n",
    "    return out\n",
    "\n",
    "\n",
    "in_shp = (2, 1024)\n",
    "input_img = Input(shape=in_shp)\n",
    "out = googleNet(input_img,data_format='channels_last', num_classes=labels[0].shape[0])\n",
    "model = Model(inputs=input_img, outputs=out)\n",
    "\n",
    "model.summary()"
   ]
  },
  {
   "cell_type": "code",
   "execution_count": 11,
   "metadata": {
    "collapsed": true,
    "scrolled": false
   },
   "outputs": [],
   "source": [
    "# # Uncomment to visualize architecture\n",
    "# plot_model(model, to_file='model.png', show_shapes = True)\n",
    "\n",
    "# figure(figsize = (15,20))\n",
    "# img = mpimg.imread('model.png')\n",
    "# plt.imshow(img, aspect='auto')\n",
    "# plt.show()"
   ]
  },
  {
   "cell_type": "code",
   "execution_count": 12,
   "metadata": {
    "collapsed": true
   },
   "outputs": [],
   "source": [
    "def shuffle_data(data,labels, snr=None):\n",
    "    idx = np.random.permutation(labels.shape[0])\n",
    "    if not snr is None:\n",
    "        return data[idx], labels[idx], snr[idx]\n",
    "    return data[idx], labels[idx]\n",
    "\n",
    "def split(data,labels, snr, train, val):\n",
    "    l = data.shape[0]\n",
    "    train_id = l * train // 100\n",
    "    val_id = train_id + l * val // 100\n",
    "         \n",
    "    return  data[:train_id], labels[:train_id], snr[:train_id],                     \\\n",
    "            data[train_id:val_id], labels[train_id:val_id], snr[train_id:val_id],   \\\n",
    "            data[val_id:], labels[val_id:], snr[val_id:] \n",
    "\n",
    "def normalize(sig):\n",
    "    print(sig.shape)\n",
    "        \n",
    "def batch_generator(sig_data, sig_labels, batch_size=512, noise=None, shuffle=False, freq_shift=np.pi, normalize=True):\n",
    "    \n",
    "    \n",
    "    while True:\n",
    "        data = np.copy(sig_data)\n",
    "        labels = np.copy(sig_labels)\n",
    "        N = data.shape[0]\n",
    "\n",
    "        if shuffle:\n",
    "            idx = np.random.permutation(data.shape[0])\n",
    "            data, labels = shuffle_data(data, labels)\n",
    "            \n",
    "        if normalize:\n",
    "            for i in range(data.shape[0]):\n",
    "                sig = data[i][0] + 1j * data[i][1]\n",
    "                sig = sig/np.std(sig)\n",
    "\n",
    "                data[i][0] = sig.real\n",
    "                data[i][1] = sig.imag\n",
    "            \n",
    "        \n",
    "        \n",
    "            \n",
    "        steps = N // batch_size\n",
    "        \n",
    "        for i in range(steps):\n",
    "            beg = i*batch_size\n",
    "            end = beg+batch_size\n",
    "            \n",
    "            batch_data, batch_labels = sig_data[beg:end], sig_labels[beg:end]\n",
    "            \n",
    "            if noise:\n",
    "                x,y,z = batch_data.shape\n",
    "                batch_data += noise * np.random.randn(x, y, z)\n",
    "                \n",
    "            if freq_shift:\n",
    "                shift = np.random.uniform(-freq_shift,freq_shift,batch_data.shape[0])\n",
    "                carrier = np.exp(1j*shift[:,np.newaxis] * np.arange(1024).reshape((1,1024)))\n",
    "                c_r = carrier.real; c_i = carrier.imag\n",
    "                batch_data[:,0,:], batch_data[:,1,:] = batch_data[:,0,:]*c_r - batch_data[:,1,:]*c_i, \\\n",
    "                                                       batch_data[:,0,:]*c_i + batch_data[:,1,:]*c_r\n",
    "\n",
    "\n",
    "            yield batch_data, batch_labels\n",
    "        \n",
    "        if noise:\n",
    "            data = np.copy(sig_data)     "
   ]
  },
  {
   "cell_type": "code",
   "execution_count": 13,
   "metadata": {
    "collapsed": true
   },
   "outputs": [],
   "source": [
    "data, labels, snr = shuffle_data(data, labels, snr)\n",
    "\n",
    "train_data, train_labels, train_snr, \\\n",
    "val_data, val_labels, val_snr, \\\n",
    "test_data, test_labels, test_snr = split(data, labels, snr, 80, 10)"
   ]
  },
  {
   "cell_type": "code",
   "execution_count": 14,
   "metadata": {},
   "outputs": [
    {
     "name": "stdout",
     "output_type": "stream",
     "text": [
      "(2555904, 2, 1024)\n"
     ]
    }
   ],
   "source": [
    "print(data.shape)"
   ]
  },
  {
   "cell_type": "code",
   "execution_count": 15,
   "metadata": {
    "collapsed": true
   },
   "outputs": [],
   "source": [
    "train_batch_size = 512\n",
    "val_batch_size = 512\n",
    "\n",
    "train_generator = batch_generator(train_data, train_labels, batch_size=512, noise=None, shuffle=True, freq_shift=None)\n",
    "val_generator = batch_generator(val_data, val_labels, batch_size=512, noise=None, shuffle=False, freq_shift=None)\n",
    "\n",
    "tsteps = train_data.shape[0] // train_batch_size\n",
    "vsteps = val_data.shape[0] // val_batch_size\n",
    "\n",
    "# print(next(train_generator)[0].shape)"
   ]
  },
  {
   "cell_type": "code",
   "execution_count": 16,
   "metadata": {},
   "outputs": [
    {
     "name": "stdout",
     "output_type": "stream",
     "text": [
      "train:  (2044723, 2, 1024) (2044723, 24) (2044723, 1)\n",
      "val:  (255590, 2, 1024) (255590, 24) (255590, 1)\n",
      "test:  (255591, 2, 1024) (255591, 24) (255591, 1)\n"
     ]
    }
   ],
   "source": [
    "print(\"train: \", train_data.shape, train_labels.shape, train_snr.shape)\n",
    "print(\"val: \", val_data.shape, val_labels.shape, val_snr.shape)\n",
    "print(\"test: \", test_data.shape, test_labels.shape, test_snr.shape)"
   ]
  },
  {
   "cell_type": "code",
   "execution_count": null,
   "metadata": {
    "scrolled": false
   },
   "outputs": [
    {
     "name": "stderr",
     "output_type": "stream",
     "text": [
      "/home/morads/anaconda3/envs/py36/lib/python3.6/site-packages/ipykernel_launcher.py:15: UserWarning: The semantics of the Keras 2 argument `steps_per_epoch` is not the same as the Keras 1 argument `samples_per_epoch`. `steps_per_epoch` is the number of batches to draw from the generator at each epoch. Basically steps_per_epoch = samples_per_epoch/batch_size. Similarly `nb_val_samples`->`validation_steps` and `val_samples`->`steps` arguments have changed. Update your method calls accordingly.\n",
      "  from ipykernel import kernelapp as app\n",
      "/home/morads/anaconda3/envs/py36/lib/python3.6/site-packages/ipykernel_launcher.py:15: UserWarning: Update your `fit_generator` call to the Keras 2 API: `fit_generator(<generator..., steps_per_epoch=3993, verbose=1, validation_data=<generator..., validation_steps=499, callbacks=[<keras.ca..., epochs=10)`\n",
      "  from ipykernel import kernelapp as app\n"
     ]
    },
    {
     "name": "stdout",
     "output_type": "stream",
     "text": [
      "Epoch 1/10\n",
      "3993/3993 [==============================] - 798s 200ms/step - loss: 1.6502 - val_loss: 1.4257\n",
      "Epoch 2/10\n"
     ]
    }
   ],
   "source": [
    "# model = multi_gpu_model(model, gpus=2)\n",
    "number_of_epochs = 10\n",
    "model.compile(loss='categorical_crossentropy', optimizer='adam')\n",
    "filepath = '/tmp/morads/convmodrecnets_CNN2_0.5.wts.h5'\n",
    "\n",
    "try:\n",
    "    history = model.fit_generator(train_generator,\n",
    "        nb_epoch=number_of_epochs,\n",
    "        steps_per_epoch=tsteps,\n",
    "        verbose=1,\n",
    "        validation_data=val_generator,\n",
    "        validation_steps=vsteps,\n",
    "         callbacks = [\n",
    "              keras.callbacks.ModelCheckpoint(filepath, monitor='val_loss', verbose=0, save_best_only=True, mode='auto'),\n",
    "              keras.callbacks.EarlyStopping(monitor='val_loss', patience=5, verbose=0, mode='auto')\n",
    "         ]) \n",
    "except(StopIteration):\n",
    "    pass\n",
    "    \n",
    "model.save('small_mod_classifier.h5')  \n",
    "\n",
    "print(\"Done\")"
   ]
  },
  {
   "cell_type": "code",
   "execution_count": null,
   "metadata": {
    "collapsed": true
   },
   "outputs": [],
   "source": [
    "def getSNRindices(snrLabels, snr):\n",
    "    return np.where(snrLabels==snr)[0]\n",
    "\n",
    "def getModIndices(labels, mod):\n",
    "    labl = np.argmax(labels, axis=1)\n",
    "    return np.where(labl==mod)[0]\n",
    "    "
   ]
  },
  {
   "cell_type": "code",
   "execution_count": null,
   "metadata": {
    "collapsed": true
   },
   "outputs": [],
   "source": [
    "filepath = '/tmp/morads/convmodrecnets_CNN2_0.5.wts.h5'\n",
    "model = load_model(filepath)\n",
    "# model = load_model(\"mod_classifier24.h5\")"
   ]
  },
  {
   "cell_type": "code",
   "execution_count": null,
   "metadata": {},
   "outputs": [],
   "source": [
    "# just accuracies\n",
    "decimate = 5\n",
    "eval_data, eval_snr, eval_labels = np.copy(test_data[::decimate]), np.copy(test_snr[::decimate]), np.copy(test_labels[::decimate])\n",
    "\n",
    "\n",
    "for i in range(eval_data.shape[0]):\n",
    "    eval_data[i] /= np.std(eval_data[i][0] + 1j*eval_data[i][1])\n",
    "        \n",
    "        \n",
    "for SNR in np.unique(snr):\n",
    "    snrIndices = getSNRindices(eval_snr, SNR)\n",
    "    signalData = eval_data[snrIndices]\n",
    "    \n",
    "    \n",
    "    \n",
    "#     shift = np.random.uniform(-np.pi/8,np.pi/8,signalData.shape[0])\n",
    "#     carrier = np.exp(1j*shift[:,np.newaxis] * np.arange(1024).reshape((1,1024)))\n",
    "#     c_r = carrier.real; c_i = carrier.imag\n",
    "    \n",
    "\n",
    "#     temp = signalData.copy()\n",
    "    \n",
    "#     signalData[:,0,:] = temp[:,0,:]*c_r - temp[:,1,:]*c_i\n",
    "#     signalData[:,1,:] = temp[:,0,:]*c_i + temp[:,1,:]*c_r\n",
    "\n",
    "    \n",
    "    signalLabels = np.argmax(eval_labels[snrIndices], axis = 1)\n",
    "    preds = np.argmax(model.predict(signalData), axis = 1)\n",
    "    correct = 0\n",
    "\n",
    "    for i in range(preds.shape[0]):\n",
    "        if preds[i] == signalLabels[i]:\n",
    "            correct+=1\n",
    "    \n",
    "    print(\"SNR: {}, Accuracy: {}, n: {}\".format(SNR, correct/preds.shape[0], signalData.shape[0]))\n",
    "    \n",
    "    "
   ]
  },
  {
   "cell_type": "code",
   "execution_count": null,
   "metadata": {
    "collapsed": true
   },
   "outputs": [],
   "source": []
  },
  {
   "cell_type": "code",
   "execution_count": null,
   "metadata": {
    "scrolled": true
   },
   "outputs": [],
   "source": [
    "# model = load_model(\"snr_predict3classes_freq_shifted.h5\")\n",
    "\n",
    "decimate = 100\n",
    "\n",
    "eval_data, eval_snr, eval_labels = np.copy(test_data[::decimate]), np.copy(test_snr[::decimate]), np.copy(test_labels[::decimate])\n",
    "\n",
    "for SNR in [10]:\n",
    "    snrIndices = getSNRindices(eval_snr, SNR)\n",
    "    signalData = eval_data[snrIndices]\n",
    "    \n",
    "    shift = np.random.uniform(-np.pi,np.pi,signalData.shape[0])\n",
    "    carrier = np.exp(1j*shift[:,np.newaxis] * np.arange(1024).reshape((1,1024)))\n",
    "    c_r = carrier.real; c_i = carrier.imag\n",
    "    \n",
    "\n",
    "    temp = signalData.copy()\n",
    "    \n",
    "    f = plt.figure(figsize=(8,8))\n",
    "    index = 3\n",
    "    plt.plot(np.abs(fftshift(fft(signalData[index][0].copy() + 1j *signalData[index][1].copy() ))))\n",
    "#     plt.plot(fftshift(fft(signalData[index][0].copy() + 1j *signalData[index][1].copy() )))\n",
    "    plt.show()\n",
    "    \n",
    "    signalData[:,0,:] = temp[:,0,:]*c_r - temp[:,1,:]*c_i\n",
    "    signalData[:,1,:] = temp[:,0,:]*c_i + temp[:,1,:]*c_r\n",
    "    \n",
    "    f = plt.figure(figsize=(8,8))\n",
    "    index = 3\n",
    "    print(shift[index])\n",
    "    plt.plot(np.abs(fftshift(fft(signalData[index][0].copy() + 1j *signalData[index][1].copy() ))))\n",
    "\n",
    "#     plt.plot(fftshift(fft(signalData[index][0].copy() + 1j *signalData[index][1].copy() )).real)\n",
    "#     plt.plot(fftshift(fft(signalData[index][0].copy() + 1j *signalData[index][1].copy() )).imag)\n",
    "    plt.show()\n",
    "    \n",
    "    \n",
    "    signalLabels = np.argmax(eval_labels[snrIndices], axis = 1)\n",
    "    preds = np.argmax(model.predict(signalData), axis = 1)\n",
    "    correct = 0\n",
    "\n",
    "    for i in range(preds.shape[0]):\n",
    "        if preds[i] == signalLabels[i]:\n",
    "            correct+=1\n",
    "    \n",
    "    print(\"SNR: {}, Accuracy: {}, n: {}\".format(SNR, correct/preds.shape[0], signalData.shape[0]))\n",
    "    \n",
    "    "
   ]
  },
  {
   "cell_type": "code",
   "execution_count": null,
   "metadata": {
    "collapsed": true
   },
   "outputs": [],
   "source": [
    "filepath = '/tmp/morads/convmodrecnets_CNN2_0.5.wts.h5'\n",
    "filepath = 'mod_classifier21.h5'\n",
    "model = load_model(filepath)\n",
    "decimate = 5\n",
    "eval_data, eval_snr, eval_labels = np.copy(test_data[::decimate]), np.copy(test_snr[::decimate]), np.copy(test_labels[::decimate])\n"
   ]
  },
  {
   "cell_type": "code",
   "execution_count": null,
   "metadata": {
    "scrolled": true
   },
   "outputs": [],
   "source": [
    "# for SNR in np.arange(-20,31,8):\n",
    "#     snrIndices = getSNRindices(snr, SNR)\n",
    "    \n",
    "#     signalData = data[snrIndices]\n",
    "#     signalLabels = np.argmax(labels[snrIndices], axis = 1)\n",
    "#     preds = np.argmax(model.predict(signalData), axis = 1)\n",
    "    \n",
    "#     correct = 0\n",
    "    \n",
    "#     conf = np.zeros((len(classes),len(classes)))\n",
    "#     confnorm = np.zeros((len(classes),len(classes)))\n",
    "\n",
    "#     for i in range(preds.shape[0]):\n",
    "#         if preds[i] == signalLabels[i]:\n",
    "#             correct+=1\n",
    "#         conf[signalLabels[i], preds[i]] += 1\n",
    "    \n",
    "#     for i in range(0,len(classes)):\n",
    "#         confnorm[i,:] = conf[i,:] / np.sum(conf[i,:])\n",
    "        \n",
    "#     plt.figure(figsize=(10,10))\n",
    "#     plot_confusion_matrix(confnorm, labels=classes, title=\"SNR: {} ConvNet Confusion Matrix\".format(SNR))\n",
    "#     plt.show()\n",
    "\n",
    "        \n",
    "#     print(\"SNR: {}, Accuracy: {}\".format(SNR, correct/preds.shape[0]))\n",
    "    \n",
    "    \n",
    "\n",
    "\n",
    "\n",
    "# print(eval_labels.shape)\n",
    "\n",
    "# print(model.predict(eval_data[:2]).shape)\n",
    "\n",
    "# for i in range(24):\n",
    "#     idx = getModIndices(eval_labels, i)\n",
    "    \n",
    "#     mod_data = eval_data[idx]\n",
    "#     mod_labels = eval_labels[idx]\n",
    "#     mod_snr = eval_snr[idx]\n",
    "    \n",
    "#     snr = 10\n",
    "    \n",
    "#     idx = getSNRindices(mod_snr, snr)\n",
    "#     mod_data = mod_data[idx]\n",
    "#     mod_labels = mod_labels[idx]\n",
    "#     mod_snr = mod_snr[idx]\n",
    "    \n",
    "    \n",
    "#     plt.figure(figsize=(8,8))\n",
    "#     plt.title(classes[i])\n",
    "    \n",
    "#     f = mod_data[0][0] + 1j * mod_data[0][1]\n",
    "#     f = fftshift(fft(f))\n",
    "#     plt.plot(f.real)\n",
    "#     plt.plot(f.imag)\n",
    "    \n",
    "#     plt.show()\n",
    "    \n",
    "    \n",
    "# print(eval_labels.shape)    \n",
    "# # \n",
    "for SNR in np.unique(snr):\n",
    "    snrIndices = getSNRindices(eval_snr, SNR)\n",
    "    signalData = eval_data[snrIndices]\n",
    "    \n",
    "\n",
    "    signalLabels = np.argmax(eval_labels[snrIndices], axis = 1)\n",
    "    preds = np.argmax(model.predict(signalData), axis = 1)\n",
    "    correct = 0\n",
    "\n",
    "    for i in range(preds.shape[0]):\n",
    "        if preds[i] == signalLabels[i]:\n",
    "            correct+=1\n",
    "    \n",
    "    print(\"SNR: {}, Accuracy: {}, n: {}\".format(SNR, correct/preds.shape[0], signalData.shape[0]))\n",
    "      \n",
    "        \n",
    "    \n"
   ]
  },
  {
   "cell_type": "code",
   "execution_count": null,
   "metadata": {
    "collapsed": true
   },
   "outputs": [],
   "source": []
  }
 ],
 "metadata": {
  "kernelspec": {
   "display_name": "Python 3",
   "language": "python",
   "name": "python3"
  },
  "language_info": {
   "codemirror_mode": {
    "name": "ipython",
    "version": 3
   },
   "file_extension": ".py",
   "mimetype": "text/x-python",
   "name": "python",
   "nbconvert_exporter": "python",
   "pygments_lexer": "ipython3",
   "version": "3.6.1"
  }
 },
 "nbformat": 4,
 "nbformat_minor": 1
}
